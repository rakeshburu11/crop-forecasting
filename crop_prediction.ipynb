{
 "cells": [
  {
   "cell_type": "markdown",
   "id": "441c0354",
   "metadata": {},
   "source": [
    "\n",
    "# CROP PREDICTION"
   ]
  },
  {
   "cell_type": "code",
   "execution_count": 190,
   "id": "0fb2a80c",
   "metadata": {},
   "outputs": [],
   "source": [
    "#importing required libraries\n",
    "import pandas as pd\n",
    "import numpy as np\n",
    "import warnings\n",
    "warnings.filterwarnings(\"ignore\") \n",
    "from sklearn.model_selection import train_test_split\n",
    "from sklearn.metrics import accuracy_score\n",
    "from sklearn.neighbors import KNeighborsClassifier\n",
    "from sklearn.tree import DecisionTreeRegressor"
   ]
  },
  {
   "cell_type": "code",
   "execution_count": 191,
   "id": "0271ffcb",
   "metadata": {},
   "outputs": [
    {
     "name": "stdout",
     "output_type": "stream",
     "text": [
      "   temperature   humidity        ph    rainfall label\n",
      "0    20.879744  82.002744  6.502985  202.935536  rice\n",
      "1    21.770462  80.319644  7.038096  226.655537  rice\n",
      "2    23.004459  82.320763  7.840207  263.964248  rice\n",
      "3    26.491096  80.158363  6.980401  242.864034  rice\n",
      "4    20.130175  81.604873  7.628473  262.717340  rice\n"
     ]
    }
   ],
   "source": [
    "#Reading the csv file\n",
    "data=pd.read_csv('cpdata_update.0.csv')\n",
    "print(data.head())"
   ]
  },
  {
   "cell_type": "code",
   "execution_count": 192,
   "id": "9e640497",
   "metadata": {},
   "outputs": [
    {
     "name": "stdout",
     "output_type": "stream",
     "text": [
      "<class 'pandas.core.frame.DataFrame'>\n",
      "RangeIndex: 800 entries, 0 to 799\n",
      "Data columns (total 5 columns):\n",
      " #   Column       Non-Null Count  Dtype  \n",
      "---  ------       --------------  -----  \n",
      " 0   temperature  800 non-null    float64\n",
      " 1   humidity     800 non-null    float64\n",
      " 2   ph           800 non-null    float64\n",
      " 3   rainfall     800 non-null    float64\n",
      " 4   label        800 non-null    object \n",
      "dtypes: float64(4), object(1)\n",
      "memory usage: 31.4+ KB\n"
     ]
    }
   ],
   "source": [
    "data.info()"
   ]
  },
  {
   "cell_type": "code",
   "execution_count": 193,
   "id": "1231e4f5",
   "metadata": {},
   "outputs": [
    {
     "data": {
      "text/html": [
       "<div>\n",
       "<style scoped>\n",
       "    .dataframe tbody tr th:only-of-type {\n",
       "        vertical-align: middle;\n",
       "    }\n",
       "\n",
       "    .dataframe tbody tr th {\n",
       "        vertical-align: top;\n",
       "    }\n",
       "\n",
       "    .dataframe thead th {\n",
       "        text-align: right;\n",
       "    }\n",
       "</style>\n",
       "<table border=\"1\" class=\"dataframe\">\n",
       "  <thead>\n",
       "    <tr style=\"text-align: right;\">\n",
       "      <th></th>\n",
       "      <th>temperature</th>\n",
       "      <th>humidity</th>\n",
       "      <th>ph</th>\n",
       "      <th>rainfall</th>\n",
       "    </tr>\n",
       "  </thead>\n",
       "  <tbody>\n",
       "    <tr>\n",
       "      <th>count</th>\n",
       "      <td>800.000000</td>\n",
       "      <td>800.000000</td>\n",
       "      <td>800.000000</td>\n",
       "      <td>800.000000</td>\n",
       "    </tr>\n",
       "    <tr>\n",
       "      <th>mean</th>\n",
       "      <td>29.054322</td>\n",
       "      <td>66.303792</td>\n",
       "      <td>6.405373</td>\n",
       "      <td>104.134293</td>\n",
       "    </tr>\n",
       "    <tr>\n",
       "      <th>std</th>\n",
       "      <td>7.088630</td>\n",
       "      <td>24.716873</td>\n",
       "      <td>0.707545</td>\n",
       "      <td>68.663107</td>\n",
       "    </tr>\n",
       "    <tr>\n",
       "      <th>min</th>\n",
       "      <td>18.041855</td>\n",
       "      <td>10.034048</td>\n",
       "      <td>4.548202</td>\n",
       "      <td>20.211267</td>\n",
       "    </tr>\n",
       "    <tr>\n",
       "      <th>25%</th>\n",
       "      <td>24.889185</td>\n",
       "      <td>57.962937</td>\n",
       "      <td>6.046700</td>\n",
       "      <td>46.059260</td>\n",
       "    </tr>\n",
       "    <tr>\n",
       "      <th>50%</th>\n",
       "      <td>27.424747</td>\n",
       "      <td>75.034978</td>\n",
       "      <td>6.351548</td>\n",
       "      <td>91.286565</td>\n",
       "    </tr>\n",
       "    <tr>\n",
       "      <th>75%</th>\n",
       "      <td>31.162321</td>\n",
       "      <td>83.622601</td>\n",
       "      <td>6.765381</td>\n",
       "      <td>145.466994</td>\n",
       "    </tr>\n",
       "    <tr>\n",
       "      <th>max</th>\n",
       "      <td>49.918224</td>\n",
       "      <td>94.962187</td>\n",
       "      <td>8.489423</td>\n",
       "      <td>298.560117</td>\n",
       "    </tr>\n",
       "  </tbody>\n",
       "</table>\n",
       "</div>"
      ],
      "text/plain": [
       "       temperature    humidity          ph    rainfall\n",
       "count   800.000000  800.000000  800.000000  800.000000\n",
       "mean     29.054322   66.303792    6.405373  104.134293\n",
       "std       7.088630   24.716873    0.707545   68.663107\n",
       "min      18.041855   10.034048    4.548202   20.211267\n",
       "25%      24.889185   57.962937    6.046700   46.059260\n",
       "50%      27.424747   75.034978    6.351548   91.286565\n",
       "75%      31.162321   83.622601    6.765381  145.466994\n",
       "max      49.918224   94.962187    8.489423  298.560117"
      ]
     },
     "execution_count": 193,
     "metadata": {},
     "output_type": "execute_result"
    }
   ],
   "source": [
    "data.describe()"
   ]
  },
  {
   "cell_type": "code",
   "execution_count": 194,
   "id": "24f4d7d8",
   "metadata": {},
   "outputs": [],
   "source": [
    "x=data\n",
    "x=x.drop(['label'], axis=1)"
   ]
  },
  {
   "cell_type": "code",
   "execution_count": 195,
   "id": "6c206ad8",
   "metadata": {},
   "outputs": [],
   "source": [
    "y=data[\"label\"]"
   ]
  },
  {
   "cell_type": "markdown",
   "id": "fd5a4766",
   "metadata": {},
   "source": [
    "# Decision Tree"
   ]
  },
  {
   "cell_type": "code",
   "execution_count": 183,
   "id": "e89c7452",
   "metadata": {},
   "outputs": [],
   "source": [
    "y=pd.get_dummies(data[\"label\"])\n",
    "X_train,X_test,y_train,y_test=train_test_split(x,y,test_size=0.3)"
   ]
  },
  {
   "cell_type": "code",
   "execution_count": 184,
   "id": "eff28e8f",
   "metadata": {},
   "outputs": [
    {
     "name": "stdout",
     "output_type": "stream",
     "text": [
      "The accuracy of Decision Tree model is:  97.91666666666666\n"
     ]
    }
   ],
   "source": [
    "clf=DecisionTreeRegressor()\n",
    "clf.fit(X_train,y_train)\n",
    "pred=clf.predict(X_test)\n",
    "a=accuracy_score(y_test,pred)\n",
    "print(\"The accuracy of Decision Tree model is: \", a*100)"
   ]
  },
  {
   "cell_type": "code",
   "execution_count": 185,
   "id": "f26d4f6c",
   "metadata": {},
   "outputs": [
    {
     "name": "stdout",
     "output_type": "stream",
     "text": [
      "The accuracy of Decision Tree model is:  97.91666666666666\n"
     ]
    }
   ],
   "source": [
    "clf=DecisionTreeClassifier()\n",
    "clf.fit(X_train,y_train)\n",
    "pred=clf.predict(X_test)\n",
    "a=accuracy_score(y_test,pred)\n",
    "print(\"The accuracy of Decision Tree model is: \", a*100)"
   ]
  },
  {
   "cell_type": "markdown",
   "id": "37481aa8",
   "metadata": {},
   "source": [
    "# KNN classification "
   ]
  },
  {
   "cell_type": "code",
   "execution_count": 196,
   "id": "35deefe3",
   "metadata": {},
   "outputs": [],
   "source": [
    "X_train,X_test,y_train,y_test=train_test_split(x,y,test_size=0.3)"
   ]
  },
  {
   "cell_type": "code",
   "execution_count": 187,
   "id": "4e61647d",
   "metadata": {},
   "outputs": [
    {
     "name": "stdout",
     "output_type": "stream",
     "text": [
      "Accuracy with KNN classification k=5 is 96.25\n"
     ]
    }
   ],
   "source": [
    "knn = KNeighborsClassifier(n_neighbors = 5)\n",
    "knn.fit(X_train, y_train)\n",
    "y_pred = knn.predict(X_test)\n",
    "print(\"Accuracy with KNN classification k=5 is\", accuracy_score(y_test, y_pred)*100)\n"
   ]
  },
  {
   "cell_type": "markdown",
   "id": "33665f40",
   "metadata": {},
   "source": [
    "# Naive Bayes"
   ]
  },
  {
   "cell_type": "code",
   "execution_count": 197,
   "id": "d0adfb5c",
   "metadata": {},
   "outputs": [
    {
     "name": "stdout",
     "output_type": "stream",
     "text": [
      "The accuracy of Naive Bayes model is:  98.33333333333333\n"
     ]
    }
   ],
   "source": [
    "from sklearn.naive_bayes import GaussianNB  \n",
    "classifier = GaussianNB()  \n",
    "classifier.fit(X_train, y_train) \n",
    "pred=classifier.predict(X_test)\n",
    "a=accuracy_score(y_test,pred)\n",
    "print(\"The accuracy of Naive Bayes model is: \", a*100)"
   ]
  },
  {
   "cell_type": "code",
   "execution_count": 198,
   "id": "cdf2173c",
   "metadata": {},
   "outputs": [],
   "source": [
    "d=[\"Ground Nut\",\"Pigeon Peas\",\"Sugarcane\",\"maize\",\"millet\",\"muskmelon\",\"rice\",\"watermelon\"]"
   ]
  },
  {
   "cell_type": "code",
   "execution_count": 199,
   "id": "86587aa7",
   "metadata": {},
   "outputs": [
    {
     "name": "stdout",
     "output_type": "stream",
     "text": [
      "temperature:42\n",
      "humidity:11\n",
      "ph:8\n",
      "rainfall:199\n"
     ]
    }
   ],
   "source": [
    "temp=input(\"temperature:\")\n",
    "hum=input(\"humidity:\")\n",
    "p=input(\"ph:\")\n",
    "rf=input(\"rainfall:\")\n",
    "l=[]\n",
    "l.append(temp)\n",
    "l.append(hum)\n",
    "l.append(p)\n",
    "l.append(rf)\n",
    "z=[l]\n"
   ]
  },
  {
   "cell_type": "code",
   "execution_count": 200,
   "id": "cb4a2afb",
   "metadata": {},
   "outputs": [
    {
     "name": "stdout",
     "output_type": "stream",
     "text": [
      "The soil is deficient of nutrients and minerals\n",
      "The predicted crop is:\n",
      "['Pigeon Peas']\n"
     ]
    }
   ],
   "source": [
    "if (p<str(5.5)):\n",
    "    print(\"The soil is deficient of nutrients but has minerals\")\n",
    "elif (str(5.5)<p<str(8)):\n",
    "    print(\"The soil has enough nutrients\")\n",
    "else:\n",
    "    print(\"The soil is deficient of nutrients and minerals\")\n",
    "z = classifier.predict(z)\n",
    "print(\"The predicted crop is:\")\n",
    "print(z)\n"
   ]
  },
  {
   "cell_type": "markdown",
   "id": "1d64f255",
   "metadata": {},
   "source": [
    "********************************************THE END**************************************************************\n"
   ]
  },
  {
   "cell_type": "markdown",
   "id": "ce421d5e",
   "metadata": {},
   "source": []
  }
 ],
 "metadata": {
  "kernelspec": {
   "display_name": "Python 3 (ipykernel)",
   "language": "python",
   "name": "python3"
  },
  "language_info": {
   "codemirror_mode": {
    "name": "ipython",
    "version": 3
   },
   "file_extension": ".py",
   "mimetype": "text/x-python",
   "name": "python",
   "nbconvert_exporter": "python",
   "pygments_lexer": "ipython3",
   "version": "3.9.13"
  }
 },
 "nbformat": 4,
 "nbformat_minor": 5
}
